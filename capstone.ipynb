{
 "cells": [
  {
   "cell_type": "markdown",
   "id": "87d78543",
   "metadata": {},
   "source": [
    "# solaccel: a recommendation algorithm for residential solar development\n",
    "\n",
    "In order for the US to reach carbon-neutral by 2035, the growth of renewable energy resources needs to be accelerated dramatically. One important piece of the renewable energy pie is residential rooftop solar, which adds reseliency to the energy grid while powering entire homes with clean, renewable energy.\n",
    "\n",
    "**Question:** Given a wealth of data in the residential space, can we predict which homes are poised to adopt solar and use this information to launch targeted marketing campaigns that accelerate residential solar adoption.\n",
    "\n",
    "**Proposal:** Build a recommendation algorithm for residential solar developers that scores potential clients using GIS, socio-economic, and other data as inputs.\n",
    "\n",
    "**Data Sources:** I choose Denver, CO as a test city for project development, given an existing residential solar presence and some of the best open access aerial imaging data of any US city. \n",
    " * [High-Resolution Aerial Map Data of the Denver Metro Area](https://map.openaerialmap.org/#/-104.96612548828124,39.700847368881,14/square/0231010301231013?_k=040hdj)\n",
    " * [Real Property Resedential Characteristics]( https://www.denvergov.org/opendata/dataset/city-and-county-of-denver-real-property-residential-characteristics)\n",
    "\n",
    "**Analysis:**\n",
    " * Build an image classifier to identify rooftops with existing solar installations\n",
    "     * Inspiration - [Google Project Sunroof](https://sunroof.withgoogle.com/data-explorer/place/ChIJy3mhUO0SK4cRrBtKNfjHaYw/#?overlay=installations)\n",
    " * Use homes with solar + additional residential data sources (e.g. median income, property value, sun exposure, proximity of other solar installations) to identify factors which indicate \"solar readiness\". Apply that model to houses without solar to compute a \"solar readiness\" score.\n",
    " * Visualize the \"solar readiness\" score as a heatmap to identify areas to target with solar marketing campaigns.\n",
    "\n",
    "**Outlook:** This tool could be extended to data sets beyond residential, including - small commercial, not-for-profit, etc."
   ]
  },
  {
   "cell_type": "markdown",
   "id": "26b66581",
   "metadata": {},
   "source": [
    "## Data Exploration: Rooftop Solar in Residential Denver Suburbs"
   ]
  },
  {
   "cell_type": "code",
   "execution_count": 1,
   "id": "749e178f",
   "metadata": {},
   "outputs": [],
   "source": [
    "from ipyleaflet import *"
   ]
  },
  {
   "cell_type": "markdown",
   "id": "23bd1819",
   "metadata": {},
   "source": [
    "We select OpenAerialMap data of Denver to study rooftop solar. Denver is pretty unique in providing open aerial imagery data with sufficient resolution to resolve solar panels across most of the city's suburbs. Imagery of other metropolitan areas at this resolution (and higher) can be purchased from private firms to extend the analysis if a business case is found."
   ]
  },
  {
   "cell_type": "markdown",
   "id": "8633f61a",
   "metadata": {},
   "source": [
    "### Figure 1: \n",
    "An overview of a high-resolution aerial image of Washington Park, a neighborhood of Denver."
   ]
  },
  {
   "cell_type": "code",
   "execution_count": 35,
   "id": "ff92e0e6",
   "metadata": {},
   "outputs": [
    {
     "data": {
      "application/vnd.jupyter.widget-view+json": {
       "model_id": "73882211f1b44f11adfc7c2ad8604cd6",
       "version_major": 2,
       "version_minor": 0
      },
      "text/plain": [
       "Map(center=[39.70041812520869, -104.9644303314911], controls=(ZoomControl(options=['position', 'zoom_in_text',…"
      ]
     },
     "metadata": {},
     "output_type": "display_data"
    }
   ],
   "source": [
    "m = Map(center=(39.70041812520869, -104.9644303314911), zoom=16, max_zoom = 30)\n",
    "aerial_image_layer = TileLayer(url =\"https://tiles.openaerialmap.org/5bcf6a7591037900144c3aa4/0/5bcf6a7591037900144c3aa7/{z}/{x}/{y}\",\n",
    "                              max_zoom=30, max_native_zoom=30)\n",
    "\n",
    "control = LayersControl(position='topright')\n",
    "\n",
    "m.add_layer(aerial_image_layer)\n",
    "m.add_control(control)\n",
    "\n",
    "m"
   ]
  },
  {
   "cell_type": "markdown",
   "id": "5be732dd",
   "metadata": {},
   "source": [
    "We can think of using this small block (or others like it) as a training set or test case for a larger analysis.\n",
    "\n",
    "Rough statistics of the block, at a glance:\n",
    "* Block Area ~ 0.5 x 0.5mi\n",
    "* TIFF Image Size ~ 0.4GB\n",
    "* Aerial Image Resolution: 3in (maybe 25cm - there's a discrepancy on the website)\n",
    "* Number of Residential Homes: ~320\n",
    "* Number of Homes with Rooftop Solar: ~19\n",
    "\n",
    "If we aim to analyze the entire metropolitan area of Denver (20mi)^2, we can expect a factor of ~1600 in scale. An image-based analysis would comb through ~640GB of TIFF data."
   ]
  },
  {
   "cell_type": "markdown",
   "id": "5a25b367",
   "metadata": {},
   "source": [
    "### Example 1a: A house with rooftop solar"
   ]
  },
  {
   "cell_type": "code",
   "execution_count": 23,
   "id": "a79b683f",
   "metadata": {
    "scrolled": true
   },
   "outputs": [
    {
     "data": {
      "application/vnd.jupyter.widget-view+json": {
       "model_id": "564dd2b7e46b4365bb6bb076290e2760",
       "version_major": 2,
       "version_minor": 0
      },
      "text/plain": [
       "Map(center=[39.69812998438461, -104.96665928437405], controls=(ZoomControl(options=['position', 'zoom_in_text'…"
      ]
     },
     "metadata": {},
     "output_type": "display_data"
    }
   ],
   "source": [
    "m = Map(center=(39.69812998438461, -104.96665928437405), zoom=21, max_zoom = 30)\n",
    "aerial_image_layer = TileLayer(url =\"https://tiles.openaerialmap.org/5bcf6a7591037900144c3aa4/0/5bcf6a7591037900144c3aa7/{z}/{x}/{y}\",\n",
    "                              max_zoom=30, max_native_zoom=30)\n",
    "\n",
    "control = LayersControl(position='topright')\n",
    "\n",
    "m.add_layer(aerial_image_layer)\n",
    "m.add_control(control)\n",
    "\n",
    "m"
   ]
  },
  {
   "cell_type": "markdown",
   "id": "90b1ab25",
   "metadata": {},
   "source": [
    "### Example 1b: A house without rooftop solar"
   ]
  },
  {
   "cell_type": "code",
   "execution_count": 27,
   "id": "102f3ff0",
   "metadata": {},
   "outputs": [
    {
     "data": {
      "application/vnd.jupyter.widget-view+json": {
       "model_id": "564baf24387847b2baff8e914c2e98b0",
       "version_major": 2,
       "version_minor": 0
      },
      "text/plain": [
       "Map(center=[39.698683066187705, -104.96673971583425], controls=(ZoomControl(options=['position', 'zoom_in_text…"
      ]
     },
     "metadata": {},
     "output_type": "display_data"
    }
   ],
   "source": [
    "m = Map(center=(39.698683066187705, -104.96673971583425), zoom=21, max_zoom = 30)\n",
    "aerial_image_layer = TileLayer(url =\"https://tiles.openaerialmap.org/5bcf6a7591037900144c3aa4/0/5bcf6a7591037900144c3aa7/{z}/{x}/{y}\",\n",
    "                              max_zoom=30, max_native_zoom=30)\n",
    "\n",
    "control = LayersControl(position='topright')\n",
    "\n",
    "m.add_layer(aerial_image_layer)\n",
    "m.add_control(control)\n",
    "\n",
    "m"
   ]
  },
  {
   "cell_type": "markdown",
   "id": "b61cb206",
   "metadata": {},
   "source": [
    "Here are a few other potentially relevant GIS datasets for Denver:\n",
    "* 2018 Building Outlines: https://www.denvergov.org/opendata/dataset/city-and-county-of-denver-building-outlines-2018\n",
    "* Real Property Residential Characteristics: https://www.denvergov.org/opendata/dataset/city-and-county-of-denver-real-property-residential-characteristics\n",
    "* Tree Canopy: https://www.denvergov.org/opendata/dataset/tree-canopy-2014"
   ]
  }
 ],
 "metadata": {
  "kernelspec": {
   "display_name": "Python 3 (ipykernel)",
   "language": "python",
   "name": "python3"
  },
  "language_info": {
   "codemirror_mode": {
    "name": "ipython",
    "version": 3
   },
   "file_extension": ".py",
   "mimetype": "text/x-python",
   "name": "python",
   "nbconvert_exporter": "python",
   "pygments_lexer": "ipython3",
   "version": "3.10.0"
  }
 },
 "nbformat": 4,
 "nbformat_minor": 5
}
