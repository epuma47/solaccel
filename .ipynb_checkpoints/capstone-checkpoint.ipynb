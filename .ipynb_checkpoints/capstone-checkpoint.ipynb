{
 "cells": [
  {
   "cell_type": "markdown",
   "id": "87d78543",
   "metadata": {},
   "source": [
    "In order for the US to reach carbon-neutral by 2035, the adoption and implementation of renewable energy resources needs to be accelerated. In particular, solar energy is a growing source of clean energy that has the potential to meet a significant fraction of US power demand. We utilize publicly-released data by NREL to attempt to identify promising areas in the US where the acceleration of solar adoption is most favorable.\n",
    "\n",
    "Our big questions: Where is solar located in the US over time? What factors have contributed to quicker adoption in leading solar states? Can we use available data to identify key factors for the acceleration of solar adoption?\n",
    "\n",
    "Data Sets:\n",
    "* Historical solar capacity over time in the US\n",
    "* Solar policy metric by location (this may be challenging to determine and could be a project on its own?)\n",
    "* Transmission and grid capacity by location\n",
    "* Solar incentives by location\n",
    "\n",
    "Initial Exploration:\n",
    "(1) Generate a map which visualizes growth of solar capacity over time in the US (perhaps focus on leading states to limit the overwhelming scale of analysis).\n",
    "(2) Aggregate a dataset of suspected local factors which influence adoption: solar cost, local sun, energy prices, incentives, solar policy, transmission and grid capacity.\n",
    "\n",
    "Analysis:\n",
    "Use statistical modeling to determine which changes in the underlying factors influencing solar adoption lead to the greatest acceleration of solar development. Determine which parts of the country have the largest gap in the high acceleraters relative to other factors. \n",
    "\n",
    "Conclusions:\n",
    "Make recommendations for next targets to accelerate solar growth in the US in the near term."
   ]
  },
  {
   "cell_type": "code",
   "execution_count": null,
   "id": "c44086ed",
   "metadata": {},
   "outputs": [],
   "source": []
  }
 ],
 "metadata": {
  "kernelspec": {
   "display_name": "Python 3 (ipykernel)",
   "language": "python",
   "name": "python3"
  },
  "language_info": {
   "codemirror_mode": {
    "name": "ipython",
    "version": 3
   },
   "file_extension": ".py",
   "mimetype": "text/x-python",
   "name": "python",
   "nbconvert_exporter": "python",
   "pygments_lexer": "ipython3",
   "version": "3.10.0"
  }
 },
 "nbformat": 4,
 "nbformat_minor": 5
}
